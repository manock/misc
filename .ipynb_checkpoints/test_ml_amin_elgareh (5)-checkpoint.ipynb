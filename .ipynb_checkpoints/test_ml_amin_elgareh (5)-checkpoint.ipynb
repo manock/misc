{
 "cells": [
  {
   "cell_type": "markdown",
   "metadata": {},
   "source": [
    "# Part I : Quel(le) data scientist êtes-vous ?\n",
    "## Contexte de l’analyse\n",
    "\n",
    "Elu métier le plus sexy par la Harvard Business Review en octobre 2012, le data scientist représente un profil rare qui exige de nombreuses compétences.\n",
    "\n",
    "A partir d'un dataset Aquila, vous réaliserez :\n",
    "- un clustering non supervisé afin d'identifier 2 groupes de profils techniques distinctes\n",
    "- une prédiction des profils dont le métier n'est pas labellisé\n",
    "\n",
    "\n",
    "## Données\n",
    "data.csv contient 6 variables : \n",
    "    - 'Entreprise' correspond à une liste d'entreprises fictive\n",
    "    - 'Metier' correspond au métier parmi data scientist, lead data scientist, data engineer et data architecte\n",
    "    - 'Technologies' correspond aux compétences maîtrisées par le profil\n",
    "    - 'Diplome' correspond à son niveau scolaire (Bac, Master, PhD,...)\n",
    "    - 'Experience' correspond au nombre d'années d'expériences\n",
    "    - 'Ville' correspond au lieu de travail\n",
    "    \n",
    "\n",
    "\n",
    "## Répondez aux questions \n",
    "\n",
    "Bonne chance!"
   ]
  },
  {
   "cell_type": "markdown",
   "metadata": {},
   "source": [
    "### -) Importation des libraries"
   ]
  },
  {
   "cell_type": "code",
   "execution_count": 2,
   "metadata": {},
   "outputs": [],
   "source": [
    "# Import des libraries classique (numpy, pandas, ...)\n",
    "import pandas as pd\n",
    "import numpy as np\n",
    "import re\n",
    "import sklearn as sk\n",
    "#import seaborn as sb\n",
    "from matplotlib import pyplot as plt\n",
    "from sklearn.decomposition import PCA\n",
    "from sklearn.cluster import KMeans as km\n",
    "from sklearn.pipeline import Pipeline \n",
    "from sklearn.metrics import silhouette_score, roc_curve, auc, classification_report, confusion_matrix\n",
    "from sklearn.model_selection import train_test_split, GridSearchCV\n",
    "from sklearn.datasets import load_digits\n",
    "from sklearn.preprocessing import label_binarize\n",
    "from sklearn.multiclass import OneVsRestClassifier\n",
    "from sklearn.svm import LinearSVC\n",
    "\n",
    "plt.style.use('ggplot')"
   ]
  },
  {
   "cell_type": "markdown",
   "metadata": {},
   "source": [
    "### -) Definition des fonctions pour le traitement de données"
   ]
  },
  {
   "cell_type": "code",
   "execution_count": 3,
   "metadata": {},
   "outputs": [],
   "source": [
    "# Definition du filtre à appliquer sur la data en fonction du label choisi\n",
    "def FilterByLabel(data, label):\n",
    "    return(data['Experience'].where(data['Metier'] == label))\n",
    "\n",
    "# Definition de la fonction pour imputer les données manquantes par la moyenne ou la mediane\n",
    "def Imputation(data, label, impute_type):\n",
    "    var = FilterByLabel(data, label) # filtre par label\n",
    "    if impute_type == 'mean':\n",
    "        return(var.fillna(var.mean())) # imputation par la moyenne\n",
    "    elif impute_type == 'median':\n",
    "        return(var.fillna(var.median())) # imputation par la médiane\n",
    "\n",
    "# Definition de la fonction qui compte le nombre de lignes suivant le métier exercé\n",
    "def NumberOf(data, label):\n",
    "    return(data['Metier'].str.count(label).sum())"
   ]
  },
  {
   "cell_type": "markdown",
   "metadata": {},
   "source": [
    "### -) Definition des fonctions pour la modélisation statistique"
   ]
  },
  {
   "cell_type": "code",
   "execution_count": 4,
   "metadata": {},
   "outputs": [],
   "source": [
    "# Definition des parametres pour le Pipeline du PCA_KMeans\n",
    "def SetParams(K, ncp, seed):\n",
    "    return(\n",
    "        pipe.set_params(pca__n_components=ncp, # nombre de composantes principales\n",
    "                        pca__random_state=seed, # pca seed \n",
    "                        kmeans__n_clusters=K, # number of clusters\n",
    "                        kmeans__random_state=seed # kmeans seed\n",
    "                       )\n",
    "    )\n",
    "\n",
    "# Definition du modele PCA_KMeans avec K taille du cluster, ncp nombre de composantes principales\n",
    "def PCA_Kmeans(X, pipe, K=2, ncp=2, seed=0, loop=False):\n",
    "    if loop == False: # si le nombre K de clusters est fixe\n",
    "        pipe = SetParams(K, ncp, seed) # initialisation du Pipeline\n",
    "        clus_label =  pipe.fit_predict(X) \n",
    "        return(clus_label) # retourne les classes prédites\n",
    "    else:          # si le nombre k de clusters varie\n",
    "        clus_score = list()\n",
    "        for k in range(2,K,1): # loop de 2 à K taille des clusters\n",
    "            pipe = SetParams(k, ncp, seed) # initialisation du Pipeline\n",
    "            clus_label =  pipe.fit_predict(X)\n",
    "            clus_score.append({k, silhouette_score(X, clus_label)}) \n",
    "            return(pd.DataFrame(clus_score)) # retourne les scores silhouette pour chaque cluster\n",
    "\n",
    "# Création du score AUC pour les courbes ROC\n",
    "def ComputeROC_auc(ytest, yscore, nclasses):\n",
    "    fpr = dict()\n",
    "    tpr = dict()\n",
    "    roc_auc = dict()\n",
    "    for i in range(n_classes):\n",
    "        fpr[i], tpr[i], _ = roc_curve(y_test[:, i], y_score[:, i])\n",
    "        roc_auc[i] = auc(fpr[i], tpr[i])\n",
    "    return(roc_auc)"
   ]
  },
  {
   "cell_type": "markdown",
   "metadata": {},
   "source": [
    "### -) Definition des fonctions pour l'affichage graphique"
   ]
  },
  {
   "cell_type": "code",
   "execution_count": 5,
   "metadata": {},
   "outputs": [],
   "source": [
    "# Representation des boxplot y en fonction de x\n",
    "def Boxplot(data, x, y, vary, title, windows_style=\"whitegrid\", figsize=(12,6), dpi=80):\n",
    "    sb.set_style(windows_style)\n",
    "    plt.figure(num=None, figsize=figsize, dpi=dpi)\n",
    "    plt.title(title)\n",
    "    plt.ylim([-0.5,vary.max()+0.5])\n",
    "    ax = sb.boxplot(x=x, y=y, data=data, width=0.5)\n",
    "\n",
    "# Representation de l'histogramme avec un nombre de n bar    \n",
    "def Histogram(data, n, hist_title, window_style=\"whitegrid\", figsize=(12,6), dpi=60):\n",
    "    var = data.sum().sort_values(ascending=False).head(n)\n",
    "    sb.set_style(window_style)\n",
    "    plt.figure(num=None, figsize=figsize, dpi=dpi)\n",
    "    var.plot(\"bar\", title=hist_title)\n",
    "    \n",
    "# Representation de la courbe ROC pour n classes\n",
    "def CurveROC(ytest, yscore, roc_auc, nclasses, colors, fpr=dict(), tpr = dict(), figsize=(12,6), dpi=60):\n",
    "    plt.figure(num=None, figsize=figsize, dpi=dpi)\n",
    "    for i, color in zip(range(nclasses), colors):\n",
    "        fpr[i], tpr[i], _ = roc_curve(ytest[:, i], yscore[:, i])\n",
    "        plt.plot(fpr[i], tpr[i], color=color,\n",
    "                 label='ROC curve of class {0} (area = {1:0.2f})'\n",
    "                 ''.format(i, roc_auc[i]))\n",
    "    plt.plot([0, 1], [0, 1], 'k--')\n",
    "    plt.xlim([-0.05, 1.0])\n",
    "    plt.ylim([0.0, 1.05])\n",
    "    plt.xlabel('Taux de Faux Positif')\n",
    "    plt.ylabel('Taux de Vrai Positif')\n",
    "    plt.title('Courbes ROC du modele Linear Support Vector Classification')\n",
    "    plt.legend(loc=\"lower right\")\n",
    "    plt.show() "
   ]
  },
  {
   "cell_type": "markdown",
   "metadata": {},
   "source": [
    "### 1) Importer le tableau de données dans un dataframe "
   ]
  },
  {
   "cell_type": "code",
   "execution_count": 7,
   "metadata": {},
   "outputs": [
    {
     "data": {
      "text/plain": [
       "['Untitled.ipynb',\n",
       " '.ipynb_checkpoints',\n",
       " 'environment.yml',\n",
       " 'data_result (4).csv',\n",
       " 'test_ml_amin_elgareh (5).ipynb']"
      ]
     },
     "execution_count": 7,
     "metadata": {},
     "output_type": "execute_result"
    }
   ],
   "source": [
    "import os\n",
    "os.listdir()"
   ]
  },
  {
   "cell_type": "code",
   "execution_count": 9,
   "metadata": {},
   "outputs": [
    {
     "data": {
      "text/html": [
       "<div>\n",
       "<style scoped>\n",
       "    .dataframe tbody tr th:only-of-type {\n",
       "        vertical-align: middle;\n",
       "    }\n",
       "\n",
       "    .dataframe tbody tr th {\n",
       "        vertical-align: top;\n",
       "    }\n",
       "\n",
       "    .dataframe thead th {\n",
       "        text-align: right;\n",
       "    }\n",
       "</style>\n",
       "<table border=\"1\" class=\"dataframe\">\n",
       "  <thead>\n",
       "    <tr style=\"text-align: right;\">\n",
       "      <th></th>\n",
       "      <th>Unnamed: 0</th>\n",
       "      <th>Metier</th>\n",
       "      <th>Technologies</th>\n",
       "      <th>Diplome</th>\n",
       "      <th>Experience</th>\n",
       "    </tr>\n",
       "  </thead>\n",
       "  <tbody>\n",
       "    <tr>\n",
       "      <th>0</th>\n",
       "      <td>346</td>\n",
       "      <td>Data engineer</td>\n",
       "      <td>Python/Spark/GNU/Linux</td>\n",
       "      <td>No diploma</td>\n",
       "      <td>2.5</td>\n",
       "    </tr>\n",
       "    <tr>\n",
       "      <th>1</th>\n",
       "      <td>2058</td>\n",
       "      <td>Data scientist</td>\n",
       "      <td>VBA/Python/Excel/R</td>\n",
       "      <td>Master</td>\n",
       "      <td>15.0</td>\n",
       "    </tr>\n",
       "    <tr>\n",
       "      <th>2</th>\n",
       "      <td>2670</td>\n",
       "      <td>Data scientist</td>\n",
       "      <td>Java/C/C++/R/Python</td>\n",
       "      <td>Master</td>\n",
       "      <td>1.5</td>\n",
       "    </tr>\n",
       "    <tr>\n",
       "      <th>3</th>\n",
       "      <td>2899</td>\n",
       "      <td>Data scientist</td>\n",
       "      <td>Python/Tensorflow/scikit-learn/Deep learning/R</td>\n",
       "      <td>Phd</td>\n",
       "      <td>0.0</td>\n",
       "    </tr>\n",
       "    <tr>\n",
       "      <th>4</th>\n",
       "      <td>3346</td>\n",
       "      <td>Data architecte</td>\n",
       "      <td>Cassandra/MongoDB/NoSQL/AWS</td>\n",
       "      <td>Master</td>\n",
       "      <td>7.0</td>\n",
       "    </tr>\n",
       "  </tbody>\n",
       "</table>\n",
       "</div>"
      ],
      "text/plain": [
       "   Unnamed: 0           Metier  \\\n",
       "0         346    Data engineer   \n",
       "1        2058   Data scientist   \n",
       "2        2670   Data scientist   \n",
       "3        2899   Data scientist   \n",
       "4        3346  Data architecte   \n",
       "\n",
       "                                     Technologies     Diplome  Experience  \n",
       "0                          Python/Spark/GNU/Linux  No diploma         2.5  \n",
       "1                              VBA/Python/Excel/R      Master        15.0  \n",
       "2                             Java/C/C++/R/Python      Master         1.5  \n",
       "3  Python/Tensorflow/scikit-learn/Deep learning/R         Phd         0.0  \n",
       "4                     Cassandra/MongoDB/NoSQL/AWS      Master         7.0  "
      ]
     },
     "execution_count": 9,
     "metadata": {},
     "output_type": "execute_result"
    }
   ],
   "source": [
    "# Import du dataframe \"data.csv\"\n",
    "df = pd.read_csv(\"data_result (4).csv\", sep=\";\")\n",
    "\n",
    "# Affichage des 5 premières lignes \n",
    "df.head()"
   ]
  },
  {
   "cell_type": "markdown",
   "metadata": {},
   "source": [
    "### 2) Combien y a t-il d'observations dans ce dataset? Y a t-il des valeurs manquantes? "
   ]
  },
  {
   "cell_type": "code",
   "execution_count": 6,
   "metadata": {},
   "outputs": [
    {
     "name": "stdout",
     "output_type": "stream",
     "text": [
      "\n",
      "- Le nombre d'observations dans le dataset est de : 9582\n",
      "- Il y'a 130 valeurs manquantes\n"
     ]
    }
   ],
   "source": [
    "print(\"\\n- Le nombre d'observations dans le dataset est de :\", df.shape[0])\n",
    "print(\"- Il y'a {0} valeurs manquantes\".format(df.isna().sum().sum()))"
   ]
  },
  {
   "cell_type": "markdown",
   "metadata": {},
   "source": [
    "### 3) Réaliser l'imputation des valeurs manquantes pour la variable \"Experience\" avec : \n",
    "- la valeur médiane pour les data scientists\n",
    "- la valeur moyenne pour les data engineers (-> j'ai sélectionné la médiane)"
   ]
  },
  {
   "cell_type": "code",
   "execution_count": 7,
   "metadata": {},
   "outputs": [],
   "source": [
    "# Transformation de la variable Experience en quantitative\n",
    "df.loc[:,'Experience'] = df['Experience'].str.replace(',','.').astype('float')\n",
    "\n",
    "# Imputation par la médiane pour les valeurs manquantes chez les Data Scientists, Data Engineer, \n",
    "# Lead Data scientist, Data architecte\n",
    "metiers = ['Data scientist','Data engineer','Lead data scientist','Data architecte']\n",
    "\n",
    "for i in metiers:\n",
    "    df.loc[df['Metier'] == i,'Experience'] = pd.DataFrame(Imputation(df,i,'median'))"
   ]
  },
  {
   "cell_type": "markdown",
   "metadata": {},
   "source": [
    "### 4) Combien d'années d'expériences ont, en moyenne, chacun des profils : le data scientist, le lead data scientist et le data engineer en moyenne?"
   ]
  },
  {
   "cell_type": "code",
   "execution_count": 8,
   "metadata": {},
   "outputs": [
    {
     "name": "stdout",
     "output_type": "stream",
     "text": [
      "\n",
      "- Le data scientist a en moyenne 2 ans d'expérience\n",
      "- Le lead data scientist a en moyenne 4 ans d'expérience\n",
      "- Le data engineer a en moyenne 3 ans d'expérience\n"
     ]
    }
   ],
   "source": [
    "varsci_exp = FilterByLabel(df, 'Data scientist') # filtre la variable Experience par le metier Data scientist\n",
    "varleadsci_exp = FilterByLabel(df, 'Lead data scientist') # ... par Lead data scientist\n",
    "vareng_exp = FilterByLabel(df, 'Data engineer') # ... par Data engineer\n",
    "\n",
    "print(\"\\n- Le data scientist a en moyenne {0} ans d'expérience\".format(round(varsci_exp.mean())))\n",
    "print(\"- Le lead data scientist a en moyenne {0} ans d'expérience\".format(round(varleadsci_exp.mean())))\n",
    "print(\"- Le data engineer a en moyenne {0} ans d'expérience\".format(round(vareng_exp.mean())))"
   ]
  },
  {
   "cell_type": "markdown",
   "metadata": {},
   "source": [
    "### 5) Faire la représentation graphique de votre choix afin de comparer le nombre moyen d'années d'expériences pour chaque métier"
   ]
  },
  {
   "cell_type": "code",
   "execution_count": 9,
   "metadata": {},
   "outputs": [
    {
     "data": {
      "image/png": "[encoded data removed]",
      "text/plain": [
       "<Figure size 960x480 with 1 Axes>"
      ]
     },
     "metadata": {},
     "output_type": "display_data"
    }
   ],
   "source": [
    "# Affichage de la distribution du nombre d'années d'expériences en fonction du métier exercé\n",
    "Boxplot(data=df, x=\"Metier\", y=\"Experience\", vary=df[\"Experience\"], \n",
    "        title=\"Distribution du nombre d'années d'expériences en fonction du métier exercé\")\n"
   ]
  },
  {
   "cell_type": "markdown",
   "metadata": {},
   "source": [
    "### 6) Transformer la variable continue 'Experience' en une nouvelle variable catégorielle 'Exp_label' à 4 modalités: débutant, confirmé, avancé et expert\n",
    "- Veuillez expliquer votre choix du règle de transformation.  "
   ]
  },
  {
   "cell_type": "markdown",
   "metadata": {},
   "source": [
    "#### Choix  de la transformation"
   ]
  },
  {
   "cell_type": "markdown",
   "metadata": {},
   "source": [
    "J'ai choisi de réaliser un clustering sur les variables Expérience en continue et Diplome, car cela avait l'avantage de croiser deux variables complémentaires. Le clustering K-Means à 4 clusters se justifie avec un score silhouette de 0.40"
   ]
  },
  {
   "cell_type": "code",
   "execution_count": 10,
   "metadata": {},
   "outputs": [
    {
     "name": "stdout",
     "output_type": "stream",
     "text": [
      "\n",
      " Le clustering a ete genere par un K-Means_[4] avec un score silhouette de [0.40]\n"
     ]
    }
   ],
   "source": [
    "# Creation d'un dataframe avec Experience et Diplome_label comme variables\n",
    "X = pd.DataFrame()\n",
    "X['Experience'] = df['Experience']\n",
    "X['Diplome_label'] = df['Diplome'].astype('category').cat.codes # \n",
    "\n",
    "# K-Means à 4 clusters\n",
    "kmeans = km(n_clusters=4, random_state=0)\n",
    "clus_label = kmeans.fit_predict(X)\n",
    "df.loc[:,'Exp_label'] = kmeans.labels_\n",
    "\n",
    "s_score = silhouette_score(X, clus_label) # silhouette_score\n",
    "\n",
    "print('\\n Le clustering a ete genere par un K-Means_[4] avec un score silhouette de [{0:.2f}]'.format(s_score))"
   ]
  },
  {
   "cell_type": "markdown",
   "metadata": {},
   "source": [
    "### 7) Quelles sont les 5 technologies les plus utilisées? Faites un graphique"
   ]
  },
  {
   "cell_type": "code",
   "execution_count": 11,
   "metadata": {},
   "outputs": [
    {
     "data": {
      "image/png": "[encoded data removed]",
      "text/plain": [
       "<Figure size 720x360 with 1 Axes>"
      ]
     },
     "metadata": {},
     "output_type": "display_data"
    }
   ],
   "source": [
    "# Creation du dataframe contenant la colonne Technologies, \n",
    "# avec des mots en minuscule et splitter par \"/\" \n",
    "dt = df['Technologies'].str.lower().str.split(\"/\",expand=True)\n",
    "\n",
    "# Creation des colonnes du dataframe avec une colonne par technologie\n",
    "dt = pd.get_dummies(dt) \n",
    "\n",
    "# traitement des noms des colonnes\n",
    "dt.columns = [re.sub(r'\\d{1}_|\\([^)]*\\)', '',colname)  for colname in list(dt.columns.values)]\n",
    "col = list(set(dt.columns))[1:] # liste des noms de colonnes sans '_' et '()'\n",
    "col[25] = 'nosql' # correction d'un nom de technologie mal enregistre\n",
    "\n",
    "# Création du dataframe contenant toute les colonnes par technologies\n",
    "for j in col:\n",
    "    df.loc[:,j] = pd.DataFrame(dt.loc[:,j]).sum(axis=1)\n",
    "    \n",
    "# Affichage de l'histogramme    \n",
    "Histogram(df.iloc[:,7:],5,\"top 5 des technologies les plus utilisées\")\n"
   ]
  },
  {
   "cell_type": "markdown",
   "metadata": {},
   "source": [
    "\n",
    "    "
   ]
  },
  {
   "cell_type": "markdown",
   "metadata": {},
   "source": [
    "### 8) Réaliser une méthode de clustering non supervisée de votre choix pour faire apparaître 2 clusters que vous jugerez pertinents. Donnez les caractéristiques de chacun des clusters.\n",
    "-  Justifier la performance de votre algorithme grace à une métrique.\n",
    "-  Interpréter votre resultat.  "
   ]
  },
  {
   "cell_type": "markdown",
   "metadata": {},
   "source": [
    "####  a)  Algorithme et performance"
   ]
  },
  {
   "cell_type": "markdown",
   "metadata": {},
   "source": [
    "L'algorithme est le K-Means sur les composantes principales calculées à partir de la variable Technologies en binaire. Cet algorithme permet de distinguer les Data Scientist et les Data Enginner (2 clusters) en fonction des technologies qu'ils utilisent. La métrique est le score de silhouette, un score proche de 0 justifie la création de 2 clusters. La méthode de sélection de modèle consiste donc a générée plusieurs clusters de tailles différentes et de sélectionner celui qui a son score silhouette le plus proche de 0. Le modèle retenu est le PCA_KMeans à 2 clusters."
   ]
  },
  {
   "cell_type": "code",
   "execution_count": 12,
   "metadata": {},
   "outputs": [],
   "source": [
    "# Creation d'un dataframe avec les valeurs manquantes pour la variable Métier\n",
    "df_with_missing_values = df[df['Metier'].isna()]\n",
    "\n",
    "# Creation d'un dataframe sans les valeurs manquantes pour la variable Metier\n",
    "df = df.dropna(subset=['Metier']) "
   ]
  },
  {
   "cell_type": "code",
   "execution_count": 13,
   "metadata": {},
   "outputs": [
    {
     "name": "stdout",
     "output_type": "stream",
     "text": [
      "\n",
      " Le clustering optimal a ete genere par un PCA_Kmeans_[2] avec un score silhouette de : [0.15684708]\n"
     ]
    }
   ],
   "source": [
    "# Creation de la matrice X, les colonnes sont les Technologies en binaire\n",
    "df2 = df\n",
    "X = df2.iloc[:,7:]\n",
    "\n",
    "pca = PCA() # call PCA\n",
    "kmeans = km() # call KMeans\n",
    "\n",
    "pipe = Pipeline([('pca', pca),('kmeans',kmeans)]) # creation du pipeline\n",
    "\n",
    "# recherche du cluster optimal pour k dans {2,3,4,5} et renvois le score optimal\n",
    "kscore = PCA_Kmeans(X, pipe=pipe, K=6, ncp=2, loop=True)\n",
    "\n",
    "print('\\n Le clustering optimal a ete genere par un PCA_Kmeans_{0} avec un score silhouette de : {1}'.format(\n",
    "    kscore[1].values,\n",
    "    kscore[0].values)\n",
    "     )\n",
    "\n",
    "# Creation de la variable avec les labels predits pour le cluster optimal\n",
    "df2['clus_label'] = PCA_Kmeans(X, pipe, K=2, ncp=2, loop=False)"
   ]
  },
  {
   "cell_type": "markdown",
   "metadata": {},
   "source": [
    "#### b) Interpretation des resultats"
   ]
  },
  {
   "cell_type": "markdown",
   "metadata": {},
   "source": [
    "####  Data science skills (1)\n",
    "\n",
    "Les profils des candidats issues du premier cluster sont plus scientifique. Les technologies préférées sont : R, Python et SQL."
   ]
  },
  {
   "cell_type": "code",
   "execution_count": 14,
   "metadata": {},
   "outputs": [
    {
     "name": "stdout",
     "output_type": "stream",
     "text": [
      " - Le nombre de Data scientist est de : 3161\n",
      " - Le nombre de Lead data scientist est de : 1072\n",
      " - Le nombre de Data engineer est de : 0\n",
      " - Le nombre de Data architecte est de : 0\n"
     ]
    }
   ],
   "source": [
    "# Selection du cluster 1\n",
    "dclus_1 = df2[df2['clus_label'] == 1]\n",
    "\n",
    "# Affichage du nombre d'individus par Metier dans le cluster 1\n",
    "metiers = ['Data scientist','Lead data scientist','Data engineer','Data architecte']\n",
    "for i in metiers:\n",
    "    print(\" - Le nombre de {0} est de : {1}\".format(i,NumberOf(dclus_1,i)) )"
   ]
  },
  {
   "cell_type": "code",
   "execution_count": 15,
   "metadata": {},
   "outputs": [
    {
     "data": {
      "image/png": "[encoded data removed]",
      "text/plain": [
       "<Figure size 720x360 with 1 Axes>"
      ]
     },
     "metadata": {},
     "output_type": "display_data"
    }
   ],
   "source": [
    "# Affichage des 5 technologies les plus utilisées dans le cluster 1\n",
    "Histogram(dclus_1.iloc[:,7:-1], 5, \"top 5 des technologies les plus utilisées dans le cluster 1\")\n"
   ]
  },
  {
   "cell_type": "markdown",
   "metadata": {},
   "source": [
    "#### Data engineer skills (2)\n",
    "Les profil des candidats issues du second cluster sont plus techniques. Les technologies préférées sont : Python, Java et Hadoop."
   ]
  },
  {
   "cell_type": "code",
   "execution_count": 16,
   "metadata": {},
   "outputs": [
    {
     "name": "stdout",
     "output_type": "stream",
     "text": [
      "- Le nombre de Data scientist est de : 704\n",
      "- Le nombre de Lead data scientist est de : 156\n",
      "- Le nombre de Data engineer est de : 2347\n",
      "- Le nombre de Data architecte est de : 2123\n"
     ]
    }
   ],
   "source": [
    "# Selection du cluster 2\n",
    "dclus_0 = df2[df2['clus_label'] == 0]\n",
    "\n",
    "# Affichage du nombre d'individus par Metier dans le cluster 1\n",
    "metiers = ['Data scientist','Lead data scientist','Data engineer','Data architecte']\n",
    "for i in metiers:\n",
    "    print(\"- Le nombre de {0} est de : {1}\".format(i,NumberOf(dclus_0,i)) )\n",
    "    "
   ]
  },
  {
   "cell_type": "code",
   "execution_count": 17,
   "metadata": {},
   "outputs": [
    {
     "data": {
      "image/png": "[encoded data removed]",
      "text/plain": [
       "<Figure size 720x360 with 1 Axes>"
      ]
     },
     "metadata": {},
     "output_type": "display_data"
    }
   ],
   "source": [
    "# Affichage des 5 technologies les plus utilisées dans le cluster 2\n",
    "Histogram(dclus_0.iloc[:,7:-1], 5, \"top 5 des technologies les plus utilisées dans le cluster 2\")\n"
   ]
  },
  {
   "cell_type": "markdown",
   "metadata": {},
   "source": [
    "### 9) Réaliser la prédiction des métiers manquants dans la base de données par l'algorithme de votre choix\n",
    "-  Justifier la performance de votre algorithme grace à une métrique.\n",
    "-  Interpréter votre resultat.  "
   ]
  },
  {
   "cell_type": "markdown",
   "metadata": {},
   "source": [
    "#### a) Algorithme et performance"
   ]
  },
  {
   "cell_type": "markdown",
   "metadata": {},
   "source": [
    "L'algorithme Linear Support Vector Classification (SVC) sur les variables Technologies en binaires et Experience en catégorielle permet de prédire les différentes classes de la variable Metier.  Une cross-validation à kfold=5 a été réalisée sur le jeux d'appentissage (n=70%)  et la performance de l'algorithme a été évaluée sur le jeux de test (n=30%). La justification du modèle se fait avec le f1-score qui est proche de 1 pour les classes 0,1 et 2, ce qui valide la bonne classification pour ces classes. On constate néanmoins que la classes 3 est la moins bien prédite avec un faible f1-score.   "
   ]
  },
  {
   "cell_type": "code",
   "execution_count": 18,
   "metadata": {},
   "outputs": [
    {
     "name": "stdout",
     "output_type": "stream",
     "text": [
      "              precision    recall  f1-score   support\n",
      "\n",
      "           0       0.96      1.00      0.98       624\n",
      "           1       1.00      1.00      1.00       708\n",
      "           2       0.78      0.97      0.86      1166\n",
      "           3       0.80      0.14      0.23       371\n",
      "\n",
      "   micro avg       0.87      0.87      0.87      2869\n",
      "   macro avg       0.88      0.78      0.77      2869\n",
      "weighted avg       0.87      0.87      0.84      2869\n",
      "\n"
     ]
    }
   ],
   "source": [
    "# Creation du dataframe pour la prediction avec les variables Exp_label en categorielle, \n",
    "# et les Technologies en binaire\n",
    "X = pd.DataFrame()\n",
    "X = df2.iloc[:,7:-1] # les colonnes avec les technologies\n",
    "X['Exp_label'] = df2['Exp_label'] # la colonne exp_label calculé à partir du Diplome et de l'Exp.\n",
    "y = df2['Metier'].astype('category').cat.codes # la variable a predire\n",
    "y = label_binarize(y,classes=[0,1,2,3]) # la variable a predire binarisé\n",
    "n_classes = 4\n",
    "\n",
    "# separation en training et test set pour l'apprentissage \n",
    "X_train, X_test, y_train, y_test = train_test_split(X, y, test_size=0.3, random_state=0)\n",
    "\n",
    "# Creation du pipeline\n",
    "pipeline = Pipeline([('svc', OneVsRestClassifier(LinearSVC(random_state=0)))])\n",
    "parameters = [{}] # default parameters\n",
    "\n",
    "svc = GridSearchCV(estimator=pipeline, param_grid=parameters,  cv=5, n_jobs=-1) # cross-validation kfold=5\n",
    "\n",
    "y_pred = svc.fit(X_train,y_train).predict(X_test) # la variable predite \n",
    "y_score = svc.fit(X_train, y_train).decision_function(X_test) # les scores \n",
    "\n",
    "ytest = (y_test * [0,1,2,3]).sum(axis=1) # convertis en categorielle\n",
    "ypred = (y_pred * [0,1,2,3]).sum(axis=1) # convertis en categorielle\n",
    "\n",
    "# affichage des scores : precision, recall, f1-score, support\n",
    "print(classification_report(ytest,ypred))\n"
   ]
  },
  {
   "cell_type": "code",
   "execution_count": 19,
   "metadata": {},
   "outputs": [
    {
     "data": {
      "image/png": "[encoded data removed]",
      "text/plain": [
       "<Figure size 720x360 with 1 Axes>"
      ]
     },
     "metadata": {},
     "output_type": "display_data"
    }
   ],
   "source": [
    "# Calcul des scores AUC\n",
    "roc_auc = ComputeROC_auc(y_test, y_score, n_classes)\n",
    "\n",
    "# Representation des courbes ROC\n",
    "CurveROC(y_test, y_score, roc_auc, n_classes, colors=['red','black', 'darkorange', 'cornflowerblue'])\n"
   ]
  },
  {
   "cell_type": "markdown",
   "metadata": {},
   "source": [
    "### b) Interpretation des resultats"
   ]
  },
  {
   "cell_type": "markdown",
   "metadata": {},
   "source": [
    "A partir de la matrice de confusion on constate que la plus part des mauvaises prédiction viennent du fait que l'algorithme a du mal à faire la distinction entre les Data scientists (class 2) et Lead data scientists (class 3). Un SVC à 3 clusters pour prédire les métiers {Data scientist, Data engineer, Data architecte} aurait donné de meilleurs résultats. Cependant, la prédiction des métiers manquants via SVC à 4 clusters donne des résultats justifiés et cohérents par rapport à l'hypothese de base qui consistée à valoriser les technologies comme prédicteur des métiers."
   ]
  },
  {
   "cell_type": "code",
   "execution_count": 20,
   "metadata": {
    "scrolled": false
   },
   "outputs": [
    {
     "data": {
      "text/plain": [
       "array([[ 622,    0,    2,    0],\n",
       "       [   0,  708,    0,    0],\n",
       "       [  26,    0, 1127,   13],\n",
       "       [   3,    0,  317,   51]], dtype=int64)"
      ]
     },
     "execution_count": 20,
     "metadata": {},
     "output_type": "execute_result"
    }
   ],
   "source": [
    "# Matrice de confusion pour les classes 0:architecte, 1:engineer, 2:data scientist, 3:lead data scientist\n",
    "confusion_matrix(ytest, ypred)\n"
   ]
  },
  {
   "cell_type": "markdown",
   "metadata": {},
   "source": [
    "#### Ci-dessous la prédiction pour les métiers manquants"
   ]
  },
  {
   "cell_type": "code",
   "execution_count": 21,
   "metadata": {},
   "outputs": [
    {
     "data": {
      "text/html": [
       "<div>\n",
       "<style scoped>\n",
       "    .dataframe tbody tr th:only-of-type {\n",
       "        vertical-align: middle;\n",
       "    }\n",
       "\n",
       "    .dataframe tbody tr th {\n",
       "        vertical-align: top;\n",
       "    }\n",
       "\n",
       "    .dataframe thead th {\n",
       "        text-align: right;\n",
       "    }\n",
       "</style>\n",
       "<table border=\"1\" class=\"dataframe\">\n",
       "  <thead>\n",
       "    <tr style=\"text-align: right;\">\n",
       "      <th></th>\n",
       "      <th>Metier</th>\n",
       "      <th>Technologies</th>\n",
       "      <th>Diplome</th>\n",
       "      <th>Experience</th>\n",
       "    </tr>\n",
       "  </thead>\n",
       "  <tbody>\n",
       "    <tr>\n",
       "      <th>346</th>\n",
       "      <td>Data engineer</td>\n",
       "      <td>Python/Spark/GNU/Linux</td>\n",
       "      <td>No diploma</td>\n",
       "      <td>2.5</td>\n",
       "    </tr>\n",
       "    <tr>\n",
       "      <th>2058</th>\n",
       "      <td>Data scientist</td>\n",
       "      <td>VBA/Python/Excel/R</td>\n",
       "      <td>Master</td>\n",
       "      <td>15.0</td>\n",
       "    </tr>\n",
       "    <tr>\n",
       "      <th>2670</th>\n",
       "      <td>Data scientist</td>\n",
       "      <td>Java/C/C++/R/Python</td>\n",
       "      <td>Master</td>\n",
       "      <td>1.5</td>\n",
       "    </tr>\n",
       "    <tr>\n",
       "      <th>2899</th>\n",
       "      <td>Data scientist</td>\n",
       "      <td>Python/Tensorflow/scikit-learn/Deep learning/R</td>\n",
       "      <td>Phd</td>\n",
       "      <td>0.0</td>\n",
       "    </tr>\n",
       "    <tr>\n",
       "      <th>3346</th>\n",
       "      <td>Data architecte</td>\n",
       "      <td>Cassandra/MongoDB/NoSQL/AWS</td>\n",
       "      <td>Master</td>\n",
       "      <td>7.0</td>\n",
       "    </tr>\n",
       "    <tr>\n",
       "      <th>4248</th>\n",
       "      <td>Data scientist</td>\n",
       "      <td>Python/Microsoft Azure/R/SQL</td>\n",
       "      <td>Phd</td>\n",
       "      <td>2.0</td>\n",
       "    </tr>\n",
       "    <tr>\n",
       "      <th>4290</th>\n",
       "      <td>Data scientist</td>\n",
       "      <td>SAS/Teradata/SQL/R/Python/Machine learning/Ang...</td>\n",
       "      <td>Phd</td>\n",
       "      <td>1.5</td>\n",
       "    </tr>\n",
       "    <tr>\n",
       "      <th>4292</th>\n",
       "      <td>Data scientist</td>\n",
       "      <td>SAS/Teradata/SQL/R/Python/Machine learning/Ang...</td>\n",
       "      <td>Master</td>\n",
       "      <td>8.0</td>\n",
       "    </tr>\n",
       "    <tr>\n",
       "      <th>5425</th>\n",
       "      <td>Data engineer</td>\n",
       "      <td>Python/Pyspark/Spark</td>\n",
       "      <td>No diploma</td>\n",
       "      <td>5.0</td>\n",
       "    </tr>\n",
       "    <tr>\n",
       "      <th>5593</th>\n",
       "      <td>Data scientist</td>\n",
       "      <td>Python/R/machine learning/Excel/VBA/C++</td>\n",
       "      <td>Master</td>\n",
       "      <td>3.0</td>\n",
       "    </tr>\n",
       "    <tr>\n",
       "      <th>5712</th>\n",
       "      <td>Data architecte</td>\n",
       "      <td>Hadoop/Hive/Vertica/Tableau</td>\n",
       "      <td>Bachelor</td>\n",
       "      <td>3.0</td>\n",
       "    </tr>\n",
       "    <tr>\n",
       "      <th>6024</th>\n",
       "      <td>Data engineer</td>\n",
       "      <td>Linux/Python/Hadoop/Perl/Ruby</td>\n",
       "      <td>Master</td>\n",
       "      <td>1.5</td>\n",
       "    </tr>\n",
       "    <tr>\n",
       "      <th>6625</th>\n",
       "      <td>Data architecte</td>\n",
       "      <td>Hadoop/Hive/Vertica/Tableau</td>\n",
       "      <td>No diploma</td>\n",
       "      <td>0.0</td>\n",
       "    </tr>\n",
       "    <tr>\n",
       "      <th>7091</th>\n",
       "      <td>Data scientist</td>\n",
       "      <td>SAS/Teradata/SQL/R/Python/Machine learning/Ang...</td>\n",
       "      <td>Master</td>\n",
       "      <td>0.0</td>\n",
       "    </tr>\n",
       "    <tr>\n",
       "      <th>7228</th>\n",
       "      <td>Data engineer</td>\n",
       "      <td>Map-Reduce/HDFS/PIG/HBASE/Python/Cassandra</td>\n",
       "      <td>Master</td>\n",
       "      <td>2.5</td>\n",
       "    </tr>\n",
       "    <tr>\n",
       "      <th>7330</th>\n",
       "      <td>Data scientist</td>\n",
       "      <td>Excel/Python/Matlab/R/machine learning/anglais</td>\n",
       "      <td>Phd</td>\n",
       "      <td>0.5</td>\n",
       "    </tr>\n",
       "    <tr>\n",
       "      <th>9087</th>\n",
       "      <td>Data architecte</td>\n",
       "      <td>Hadoop/Hive/Vertica/Tableau</td>\n",
       "      <td>No diploma</td>\n",
       "      <td>3.5</td>\n",
       "    </tr>\n",
       "    <tr>\n",
       "      <th>9427</th>\n",
       "      <td>Data scientist</td>\n",
       "      <td>Python/R/machine learning/Excel/VBA/C++</td>\n",
       "      <td>Master</td>\n",
       "      <td>1.0</td>\n",
       "    </tr>\n",
       "    <tr>\n",
       "      <th>9490</th>\n",
       "      <td>Data scientist</td>\n",
       "      <td>R/Python/Spark/Pycharm/SAS/SQL</td>\n",
       "      <td>Master</td>\n",
       "      <td>4.0</td>\n",
       "    </tr>\n",
       "  </tbody>\n",
       "</table>\n",
       "</div>"
      ],
      "text/plain": [
       "               Metier                                       Technologies  \\\n",
       "346     Data engineer                             Python/Spark/GNU/Linux   \n",
       "2058   Data scientist                                 VBA/Python/Excel/R   \n",
       "2670   Data scientist                                Java/C/C++/R/Python   \n",
       "2899   Data scientist     Python/Tensorflow/scikit-learn/Deep learning/R   \n",
       "3346  Data architecte                        Cassandra/MongoDB/NoSQL/AWS   \n",
       "4248   Data scientist                       Python/Microsoft Azure/R/SQL   \n",
       "4290   Data scientist  SAS/Teradata/SQL/R/Python/Machine learning/Ang...   \n",
       "4292   Data scientist  SAS/Teradata/SQL/R/Python/Machine learning/Ang...   \n",
       "5425    Data engineer                               Python/Pyspark/Spark   \n",
       "5593   Data scientist            Python/R/machine learning/Excel/VBA/C++   \n",
       "5712  Data architecte                        Hadoop/Hive/Vertica/Tableau   \n",
       "6024    Data engineer                      Linux/Python/Hadoop/Perl/Ruby   \n",
       "6625  Data architecte                        Hadoop/Hive/Vertica/Tableau   \n",
       "7091   Data scientist  SAS/Teradata/SQL/R/Python/Machine learning/Ang...   \n",
       "7228    Data engineer         Map-Reduce/HDFS/PIG/HBASE/Python/Cassandra   \n",
       "7330   Data scientist     Excel/Python/Matlab/R/machine learning/anglais   \n",
       "9087  Data architecte                        Hadoop/Hive/Vertica/Tableau   \n",
       "9427   Data scientist            Python/R/machine learning/Excel/VBA/C++   \n",
       "9490   Data scientist                     R/Python/Spark/Pycharm/SAS/SQL   \n",
       "\n",
       "         Diplome  Experience  \n",
       "346   No diploma         2.5  \n",
       "2058      Master        15.0  \n",
       "2670      Master         1.5  \n",
       "2899         Phd         0.0  \n",
       "3346      Master         7.0  \n",
       "4248         Phd         2.0  \n",
       "4290         Phd         1.5  \n",
       "4292      Master         8.0  \n",
       "5425  No diploma         5.0  \n",
       "5593      Master         3.0  \n",
       "5712    Bachelor         3.0  \n",
       "6024      Master         1.5  \n",
       "6625  No diploma         0.0  \n",
       "7091      Master         0.0  \n",
       "7228      Master         2.5  \n",
       "7330         Phd         0.5  \n",
       "9087  No diploma         3.5  \n",
       "9427      Master         1.0  \n",
       "9490      Master         4.0  "
      ]
     },
     "execution_count": 21,
     "metadata": {},
     "output_type": "execute_result"
    }
   ],
   "source": [
    "dfmiss = df_with_missing_values # call du dataframe avec les valeurs manquantes\n",
    "\n",
    "# Creation de la variable Exp_label via PCA_Kmeans\n",
    "X = pd.DataFrame()\n",
    "X['Experience'] = dfmiss['Experience']\n",
    "X['Diplome_label'] = dfmiss['Diplome'].astype('category').cat.codes # \n",
    "dfmiss['clus_label'] = PCA_Kmeans(X, pipe, K=2, ncp=2, loop=False)\n",
    "\n",
    "# Creation de la matrice X pour la prédiction des métiers\n",
    "X = pd.DataFrame()\n",
    "X = dfmiss.iloc[:,7:-1]\n",
    "X['Exp_label'] = dfmiss['Exp_label']\n",
    "\n",
    "# Prediction des métiers via Support Vector Classification\n",
    "y_pred = svc.fit(X_train,y_train).predict(X)\n",
    "\n",
    "# Creation de la colonne Métier en catégorielle à partir des valeurs prédites \n",
    "dfmiss['Metier_label'] = (y_pred * [0,1,2,3]).sum(axis=1)\n",
    "dfmiss['Metier'] = dfmiss['Metier_label'].astype('str').replace(['0','1','2','3'],\n",
    "                                                                    ['Data architecte','Data engineer',\n",
    "                                                                     'Data scientist','Lead data scientist']\n",
    "                                                                   )\n",
    "#  Affichage du dataframe avec les métiers prédits\n",
    "dresult = dfmiss[['Metier','Technologies','Diplome','Experience']]\n",
    "dresult"
   ]
  },
  {
   "cell_type": "code",
   "execution_count": 22,
   "metadata": {},
   "outputs": [],
   "source": [
    "# Exportation de la table des resultats en .csv\n",
    "dresult.to_csv(r'data_result.csv',sep=';')"
   ]
  },
  {
   "cell_type": "code",
   "execution_count": null,
   "metadata": {},
   "outputs": [],
   "source": []
  }
 ],
 "metadata": {
  "celltoolbar": "Format de la Cellule Texte Brut",
  "kernelspec": {
   "display_name": "Python 3",
   "language": "python",
   "name": "python3"
  },
  "language_info": {
   "codemirror_mode": {
    "name": "ipython",
    "version": 3
   },
   "file_extension": ".py",
   "mimetype": "text/x-python",
   "name": "python",
   "nbconvert_exporter": "python",
   "pygments_lexer": "ipython3",
   "version": "3.7.3"
  }
 },
 "nbformat": 4,
 "nbformat_minor": 2
}
